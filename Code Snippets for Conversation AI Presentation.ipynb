{
 "cells": [
  {
   "cell_type": "markdown",
   "metadata": {},
   "source": [
    "# Generating Speech"
   ]
  },
  {
   "cell_type": "markdown",
   "metadata": {},
   "source": [
    "## \"Get me a flight to JFK\""
   ]
  },
  {
   "cell_type": "code",
   "execution_count": 48,
   "metadata": {},
   "outputs": [
    {
     "data": {
      "text/plain": [
       "0"
      ]
     },
     "execution_count": 48,
     "metadata": {},
     "output_type": "execute_result"
    }
   ],
   "source": [
    "from gtts import gTTS\n",
    "import os\n",
    "\n",
    "mytext = 'Good Morning. I need to fly to New York and say over in London.\\\n",
    "           Get me a flight to JFK and a hotel in central London'\n",
    "\n",
    "language = 'en'\n",
    "\n",
    "tts = gTTS(text=mytext, lang=language) \n",
    "\n",
    "tts.save('flight.mp3')\n",
    "os.system(\"mpg321 flight.mp3\")"
   ]
  },
  {
   "cell_type": "code",
   "execution_count": 53,
   "metadata": {},
   "outputs": [],
   "source": [
    "# convert to wav file \n",
    "from pydub import AudioSegment\n",
    "from pydub.playback import play\n",
    "\n",
    "# files                                                                         \n",
    "src = \"flight.mp3\"\n",
    "dst = \"flight.wav\"\n",
    "\n",
    "# convert wav to mp3                                                            \n",
    "sound = AudioSegment.from_mp3(src)\n",
    "\n",
    "sound.export(dst, format=\"wav\")\n",
    "play(sound)\n"
   ]
  },
  {
   "cell_type": "markdown",
   "metadata": {},
   "source": [
    "# Transcribing Speech"
   ]
  },
  {
   "cell_type": "code",
   "execution_count": 56,
   "metadata": {},
   "outputs": [
    {
     "name": "stdout",
     "output_type": "stream",
     "text": [
      "Transcription: London\n"
     ]
    }
   ],
   "source": [
    "import speech_recognition as sr\n",
    "\n",
    "r = sr.Recognizer()\n",
    "# use the audio file as the audio source\n",
    "r = sr.Recognizer()\n",
    "\n",
    "with sr.WavFile('flight.wav') as source:\n",
    "     audio = r.record(source, duration=10)  # read the entire audio file \n",
    "     print(\"Transcription: \" + r.recognize_google(audio, language='en-US'))"
   ]
  },
  {
   "cell_type": "markdown",
   "metadata": {},
   "source": [
    "# Understanding Grammar"
   ]
  },
  {
   "cell_type": "code",
   "execution_count": 69,
   "metadata": {},
   "outputs": [
    {
     "name": "stdout",
     "output_type": "stream",
     "text": [
      "[('Get', 'VB'), ('me', 'PRP'), ('a', 'DT'), ('flight', 'NN'), ('to', 'TO'), ('JFK', 'VB')]\n"
     ]
    }
   ],
   "source": [
    "import nltk\n",
    "from nltk import pos_tag, word_tokenize\n",
    "\n",
    "sentence = \"Get me a flight to JFK\"\n",
    "\n",
    "tokens = word_tokenize(sentence)\n",
    "tagged_tokens = pos_tag(tokens)\n",
    "print(tagged_tokens)\n"
   ]
  },
  {
   "cell_type": "code",
   "execution_count": null,
   "metadata": {},
   "outputs": [],
   "source": []
  }
 ],
 "metadata": {
  "kernelspec": {
   "display_name": "Python 3",
   "language": "python",
   "name": "python3"
  },
  "language_info": {
   "codemirror_mode": {
    "name": "ipython",
    "version": 3
   },
   "file_extension": ".py",
   "mimetype": "text/x-python",
   "name": "python",
   "nbconvert_exporter": "python",
   "pygments_lexer": "ipython3",
   "version": "3.6.8"
  }
 },
 "nbformat": 4,
 "nbformat_minor": 2
}
